{
 "cells": [
  {
   "cell_type": "code",
   "execution_count": 1,
   "metadata": {},
   "outputs": [
    {
     "name": "stdout",
     "output_type": "stream",
     "text": [
      "[(142, 'rentdirect.com'), (142, 'staple.com')]\n"
     ]
    }
   ],
   "source": [
    "SUPPORT_TRASHOLD=0.005\n",
    "import pyspark.sql.functions as F\n",
    "from pyspark.sql import Row\n",
    "import time\n",
    "import re\n",
    "\n",
    "def removeTimestamp(row):\n",
    "    find = re.compile(r'\\d{4}-\\d{2}-\\d{2}')\n",
    "    start = re.search(find,row).start()\n",
    "    return row[0:start]\n",
    "\n",
    "def spliteToUserIdAndUserSearch(row):\n",
    "    row = row.split(\"\\t\", 1)\n",
    "    row[1] =  row[1].rstrip('\\t')\n",
    "    return (int(row[0]),row[1])\n",
    "\n",
    "def uniqueList(line):\n",
    "    uniqueSearches = set(line[1])\n",
    "    newLine = [line[0],list(uniqueSearches)]\n",
    "    return newLine\n",
    "\n",
    "start = time.time()\n",
    "log_txt=sc.textFile(\"Test3.txt\")\n",
    "header = log_txt.first()\n",
    "\n",
    "\n",
    "log_txt = log_txt.filter(lambda line: line != header)\n",
    "logSearch = log_txt.map(lambda line: spliteToUserIdAndUserSearch(removeTimestamp(line))).distinct()\n",
    "\n",
    "print(logSearch.take(2))"
   ]
  },
  {
   "cell_type": "code",
   "execution_count": 2,
   "metadata": {},
   "outputs": [],
   "source": [
    "totalOfTransactions = logSearch.groupByKey().count()"
   ]
  },
  {
   "cell_type": "code",
   "execution_count": 3,
   "metadata": {},
   "outputs": [
    {
     "name": "stdout",
     "output_type": "stream",
     "text": [
      "4\n"
     ]
    }
   ],
   "source": [
    "print(totalOfTransactions)"
   ]
  },
  {
   "cell_type": "code",
   "execution_count": 6,
   "metadata": {},
   "outputs": [
    {
     "data": {
      "text/plain": [
       "[('rentdirect.com', 0.5),\n",
       " ('staple.com', 0.5),\n",
       " ('www.newyorklawyersite.com', 0.5),\n",
       " ('207 ad2d 530', 0.5),\n",
       " ('frankmellace.com', 0.5),\n",
       " ('ucs.ljx.com', 0.5),\n",
       " ('attornyleslie.com', 0.5),\n",
       " ('merit release appearance', 0.5),\n",
       " ('www.bonsai.wbff.org', 0.5),\n",
       " ('loislaw.com', 0.5)]"
      ]
     },
     "execution_count": 6,
     "metadata": {},
     "output_type": "execute_result"
    }
   ],
   "source": [
    "# remove the user id -> return only query \n",
    "all_queries = logSearch.map(lambda line: line[1])\n",
    "# count how much time query is show for all the user divide by number of users\n",
    "rdd_query_count = all_queries.map(lambda q: (q, 1) ).reduceByKey(lambda c1,c2: c1+c2 ) \\\n",
    "                                                    .map(lambda x: (x[0], x[1] / totalOfTransactions)) \\\n",
    "                                                    .filter(lambda x: x[1] > SUPPORT_TRASHOLD)\n",
    "\n",
    "# rdd_query_count is list of queries that pass the thrasholds of support\n",
    "rdd_query_count.take(10)\n"
   ]
  },
  {
   "cell_type": "code",
   "execution_count": 7,
   "metadata": {},
   "outputs": [
    {
     "name": "stdout",
     "output_type": "stream",
     "text": [
      "['rentdirect.com', 'staple.com', 'www.newyorklawyersite.com', '207 ad2d 530', 'frankmellace.com', 'ucs.ljx.com', 'attornyleslie.com', 'merit release appearance', 'www.bonsai.wbff.org', 'loislaw.com', 'ameriprise.com', \"p; .; p;' p; ' ;' ;';\", 'asiansexygoddess.com', 'ask.com', 'wellsfargo.com', 'www.tabiecummings.com', 'wanttickets.com', 'yahoo.com', 'www.ngo-quen.org', 'myspace.co', 'myspace.com', 'chasebadkids.net', 'lottery', 'susheme', 'united.com', 'mizuno.com', 'buddylis', 'bestasiancompany.com', 'weather.com', '-', 'vietnam', 'googl', 'www.prescriptionfortime.com', 'westchester.gov', 'space.comhttp', 'dfdf', 'vaniqa.comh', 'www.collegeucla.edu', 'www.elaorg', 'broadway.vera.org', 'vera.org', 'rapny.com', 'whitepages.com']\n"
     ]
    }
   ],
   "source": [
    "# get the set of all queries\n",
    "validItems = rdd_query_count.map(lambda x:x[0]).collect()\n",
    "print(validItems)"
   ]
  },
  {
   "cell_type": "code",
   "execution_count": 8,
   "metadata": {},
   "outputs": [
    {
     "data": {
      "text/plain": [
       "[(142,\n",
       "  ['rentdirect.com',\n",
       "   'staple.com',\n",
       "   'www.newyorklawyersite.com',\n",
       "   '207 ad2d 530',\n",
       "   'frankmellace.com',\n",
       "   'ucs.ljx.com',\n",
       "   'attornyleslie.com',\n",
       "   'merit release appearance',\n",
       "   'www.bonsai.wbff.org',\n",
       "   'loislaw.com',\n",
       "   'www.prescriptionfortime.com',\n",
       "   'westchester.gov',\n",
       "   'space.comhttp',\n",
       "   'dfdf',\n",
       "   'vaniqa.comh',\n",
       "   'www.collegeucla.edu',\n",
       "   'www.elaorg',\n",
       "   'broadway.vera.org',\n",
       "   'vera.org',\n",
       "   'rapny.com',\n",
       "   'whitepages.com']),\n",
       " (52,\n",
       "  ['rentdirect.com',\n",
       "   'staple.com',\n",
       "   'www.newyorklawyersite.com',\n",
       "   '207 ad2d 530',\n",
       "   'frankmellace.com',\n",
       "   'ucs.ljx.com',\n",
       "   'attornyleslie.com',\n",
       "   'merit release appearance',\n",
       "   'www.bonsai.wbff.org',\n",
       "   'loislaw.com',\n",
       "   'www.prescriptionfortime.com',\n",
       "   'westchester.gov',\n",
       "   'space.comhttp',\n",
       "   'dfdf',\n",
       "   'vaniqa.comh',\n",
       "   'www.collegeucla.edu',\n",
       "   'www.elaorg',\n",
       "   'broadway.vera.org',\n",
       "   'vera.org',\n",
       "   'rapny.com',\n",
       "   'whitepages.com'])]"
      ]
     },
     "execution_count": 8,
     "metadata": {},
     "output_type": "execute_result"
    }
   ],
   "source": [
    "def include_queries_by_support_thrasholds(inValidList,validItems):\n",
    "    return [s for s in inValidList if s in validItems]\n",
    "user_query = logSearch.groupByKey().mapValues(list).filter(lambda kv: len(kv[1]) > 1)  \n",
    "user_query = user_query.map(lambda t: (t[0],include_queries_by_support_thrasholds(t[1],validItems)))\n",
    "user_query.take(2)\n"
   ]
  },
  {
   "cell_type": "code",
   "execution_count": 9,
   "metadata": {},
   "outputs": [
    {
     "data": {
      "text/plain": [
       "[('rentdirect.com', 'staple.com'),\n",
       " ('rentdirect.com', 'www.newyorklawyersite.com'),\n",
       " ('rentdirect.com', '207 ad2d 530'),\n",
       " ('rentdirect.com', 'frankmellace.com'),\n",
       " ('rentdirect.com', 'ucs.ljx.com'),\n",
       " ('rentdirect.com', 'attornyleslie.com'),\n",
       " ('rentdirect.com', 'merit release appearance'),\n",
       " ('rentdirect.com', 'www.bonsai.wbff.org'),\n",
       " ('rentdirect.com', 'loislaw.com'),\n",
       " ('rentdirect.com', 'www.prescriptionfortime.com'),\n",
       " ('rentdirect.com', 'westchester.gov'),\n",
       " ('rentdirect.com', 'space.comhttp'),\n",
       " ('rentdirect.com', 'dfdf'),\n",
       " ('rentdirect.com', 'vaniqa.comh'),\n",
       " ('rentdirect.com', 'www.collegeucla.edu'),\n",
       " ('rentdirect.com', 'www.elaorg'),\n",
       " ('rentdirect.com', 'broadway.vera.org'),\n",
       " ('rentdirect.com', 'vera.org'),\n",
       " ('rentdirect.com', 'rapny.com'),\n",
       " ('rentdirect.com', 'whitepages.com'),\n",
       " ('staple.com', 'www.newyorklawyersite.com'),\n",
       " ('staple.com', '207 ad2d 530'),\n",
       " ('staple.com', 'frankmellace.com'),\n",
       " ('staple.com', 'ucs.ljx.com'),\n",
       " ('staple.com', 'attornyleslie.com'),\n",
       " ('staple.com', 'merit release appearance'),\n",
       " ('staple.com', 'www.bonsai.wbff.org'),\n",
       " ('staple.com', 'loislaw.com'),\n",
       " ('staple.com', 'www.prescriptionfortime.com'),\n",
       " ('staple.com', 'westchester.gov'),\n",
       " ('staple.com', 'space.comhttp'),\n",
       " ('staple.com', 'dfdf'),\n",
       " ('staple.com', 'vaniqa.comh'),\n",
       " ('staple.com', 'www.collegeucla.edu'),\n",
       " ('staple.com', 'www.elaorg'),\n",
       " ('staple.com', 'broadway.vera.org'),\n",
       " ('staple.com', 'vera.org'),\n",
       " ('staple.com', 'rapny.com'),\n",
       " ('staple.com', 'whitepages.com'),\n",
       " ('www.newyorklawyersite.com', '207 ad2d 530'),\n",
       " ('www.newyorklawyersite.com', 'frankmellace.com'),\n",
       " ('www.newyorklawyersite.com', 'ucs.ljx.com'),\n",
       " ('www.newyorklawyersite.com', 'attornyleslie.com'),\n",
       " ('www.newyorklawyersite.com', 'merit release appearance'),\n",
       " ('www.newyorklawyersite.com', 'www.bonsai.wbff.org'),\n",
       " ('www.newyorklawyersite.com', 'loislaw.com'),\n",
       " ('www.newyorklawyersite.com', 'www.prescriptionfortime.com'),\n",
       " ('www.newyorklawyersite.com', 'westchester.gov'),\n",
       " ('www.newyorklawyersite.com', 'space.comhttp'),\n",
       " ('www.newyorklawyersite.com', 'dfdf')]"
      ]
     },
     "execution_count": 9,
     "metadata": {},
     "output_type": "execute_result"
    }
   ],
   "source": [
    "def get_all_pairs(arr):\n",
    "        result = []\n",
    "        for p1 in range(len(arr)):\n",
    "                for p2 in range(p1+1,len(arr)):\n",
    "                        result.append((arr[p1],arr[p2]))\n",
    "        return result\n",
    "    \n",
    "all_queries_pairs_tuples = user_query.map(lambda kv: kv[1]).flatMap(lambda arr: get_all_pairs(arr))\n",
    "all_queries_pairs_tuples.take(50)\n",
    "# userId | a, b ,c ,d\n",
    "# 1| 1,1,0,0->a,b\n",
    "# 2|0,1,1,0->b,c\n"
   ]
  },
  {
   "cell_type": "code",
   "execution_count": 10,
   "metadata": {},
   "outputs": [
    {
     "data": {
      "text/plain": [
       "[(('rentdirect.com', 'staple.com'), 0.5),\n",
       " (('rentdirect.com', 'www.newyorklawyersite.com'), 0.5),\n",
       " (('207 ad2d 530', 'rentdirect.com'), 0.5),\n",
       " (('frankmellace.com', 'rentdirect.com'), 0.5),\n",
       " (('rentdirect.com', 'ucs.ljx.com'), 0.5),\n",
       " (('attornyleslie.com', 'rentdirect.com'), 0.5),\n",
       " (('merit release appearance', 'rentdirect.com'), 0.5),\n",
       " (('rentdirect.com', 'www.bonsai.wbff.org'), 0.5),\n",
       " (('loislaw.com', 'rentdirect.com'), 0.5),\n",
       " (('staple.com', 'www.newyorklawyersite.com'), 0.5)]"
      ]
     },
     "execution_count": 10,
     "metadata": {},
     "output_type": "execute_result"
    }
   ],
   "source": [
    "def sort_small_list(arr):\n",
    "    if(arr[0] <= arr[1]):\n",
    "        return arr\n",
    "    return [arr[1],arr[0]]\n",
    "# the sort is for (a,b) (b,a) = > (a,b) (a,b) => ((a,b),2)\n",
    "all_queries_tuples_sorted = all_queries_pairs_tuples.map(lambda kv: sort_small_list(list(kv))) \\\n",
    "                                                .map(lambda arr: (arr[0],arr[1]) )\n",
    "\n",
    "all_queries_pairs_tuples_count = all_queries_tuples_sorted.map(lambda kv: (kv,1)) \\\n",
    "                                                    .reduceByKey(lambda c1,c2: c1+c2 )\\\n",
    "                                                    .filter(lambda kv: kv[1] > 1) \\\n",
    "                                                    .map(lambda x: (x[0], x[1] / totalOfTransactions)) \n",
    "\n",
    "\n",
    "all_queries_pairs_tuples_count.take(10)\n"
   ]
  },
  {
   "cell_type": "code",
   "execution_count": 11,
   "metadata": {},
   "outputs": [
    {
     "data": {
      "text/plain": [
       "[((('rentdirect.com', 'staple.com'), 0.5), ('rentdirect.com', 0.5)),\n",
       " ((('rentdirect.com', 'staple.com'), 0.5), ('staple.com', 0.5)),\n",
       " ((('rentdirect.com', 'staple.com'), 0.5), ('www.newyorklawyersite.com', 0.5))]"
      ]
     },
     "execution_count": 11,
     "metadata": {},
     "output_type": "execute_result"
    }
   ],
   "source": [
    "rdd_queries_tuples_cartesian = all_queries_pairs_tuples_count.cartesian(rdd_query_count)\n",
    "rdd_queries_tuples_cartesian.take(3)"
   ]
  },
  {
   "cell_type": "code",
   "execution_count": 12,
   "metadata": {},
   "outputs": [
    {
     "name": "stdout",
     "output_type": "stream",
     "text": [
      "[('rentdirect.com', 'staple.com', 1.0), ('rentdirect.com', 'www.newyorklawyersite.com', 1.0), ('207 ad2d 530', 'rentdirect.com', 1.0), ('rentdirect.com', 'ucs.ljx.com', 1.0), ('frankmellace.com', 'rentdirect.com', 1.0)]\n",
      "\n",
      "[('staple.com', 'rentdirect.com', 1.0), ('rentdirect.com', '207 ad2d 530', 1.0), ('www.newyorklawyersite.com', 'rentdirect.com', 1.0), ('rentdirect.com', 'frankmellace.com', 1.0), ('rentdirect.com', 'attornyleslie.com', 1.0)]\n",
      "\n"
     ]
    }
   ],
   "source": [
    "# this command calculate XUY/X by taking all lines that ((x ,y , number of suply(xUy)),(z ,number of suply(z))) when z ==x\n",
    "rdd_join_left = rdd_queries_tuples_cartesian.filter(lambda lr: lr[0][0][0] == lr[1][0]) \\\n",
    "                                            .map(lambda lr: (lr[0][0][0],lr[0][0][1],float(lr[0][1]) / lr[1][1]))\n",
    "\n",
    "print(rdd_join_left.take(5))\n",
    "# this command take XUY/Y\n",
    "print('')\n",
    "rdd_join_right = rdd_queries_tuples_cartesian.filter(lambda lr: lr[0][0][1] == lr[1][0])\\\n",
    "                                             .map(lambda lr: (lr[0][0][1], lr[0][0][0], float(lr[0][1]) / lr[1][1]))\n",
    "print(rdd_join_right.take(5))\n",
    "print('')\n"
   ]
  },
  {
   "cell_type": "code",
   "execution_count": 13,
   "metadata": {},
   "outputs": [
    {
     "name": "stdout",
     "output_type": "stream",
     "text": [
      "elapsed time: 00:00:52\n"
     ]
    }
   ],
   "source": [
    "end = time.time()\n",
    "elapsed_time = time.strftime(\"%H:%M:%S\", time.gmtime(end - start))\n",
    "print(\"elapsed time: %s\" % elapsed_time)"
   ]
  },
  {
   "cell_type": "code",
   "execution_count": 14,
   "metadata": {},
   "outputs": [
    {
     "name": "stdout",
     "output_type": "stream",
     "text": [
      "[('rentdirect.com', 'staple.com', 1.0), ('rentdirect.com', 'www.newyorklawyersite.com', 1.0), ('207 ad2d 530', 'rentdirect.com', 1.0), ('rentdirect.com', 'ucs.ljx.com', 1.0), ('frankmellace.com', 'rentdirect.com', 1.0), ('attornyleslie.com', 'rentdirect.com', 1.0), ('merit release appearance', 'rentdirect.com', 1.0)]\n"
     ]
    }
   ],
   "source": [
    "#######################\n",
    "####### TASK 1 ########\n",
    "#######################\n",
    "\n",
    "rdd_query_conf = sc.union([rdd_join_left, rdd_join_right])\n",
    "print(rdd_query_conf.take(7))"
   ]
  },
  {
   "cell_type": "code",
   "execution_count": 16,
   "metadata": {},
   "outputs": [],
   "source": [
    "#######################\n",
    "####### TASK 2  #######\n",
    "#######################\n",
    "rddQueryConfDF = sqlContext.createDataFrame(rdd_query_conf, [\"X\", \"Y\",\"CONFIDENCE\"])\n",
    "rddQueryConfDF.coalesce(1).write.format('com.databricks.spark.csv').save('/home/kfir/Desktop/Ex2/Final/my.csv',header = 'true')"
   ]
  },
  {
   "cell_type": "code",
   "execution_count": 17,
   "metadata": {},
   "outputs": [
    {
     "name": "stdout",
     "output_type": "stream",
     "text": [
      "the amount of related queries for 0.6 confidence\n",
      "420\n",
      "the amount of related queries for 0.8 confidence\n",
      "420\n",
      "the amount of related queries for 0.9 confidence\n",
      "420\n"
     ]
    }
   ],
   "source": [
    "#########################\n",
    "####### TASK 4.a ########\n",
    "#########################\n",
    "\n",
    "def filterConfidence(line,Conf):\n",
    "    if line[2] >=Conf:\n",
    "        return(True)\n",
    "    return(False)\n",
    "\n",
    "x_y_conf06 = rdd_query_conf.filter(lambda line: filterConfidence(line,0.6))\n",
    "x_y_conf08 = x_y_conf06.filter(lambda line: filterConfidence(line,0.8))\n",
    "x_y_conf09 = x_y_conf08.filter(lambda line:filterConfidence(line,0.9))\n",
    "print('the amount of related queries for 0.6 confidence')\n",
    "print(x_y_conf06.count())\n",
    "\n",
    "print('the amount of related queries for 0.8 confidence')\n",
    "print(x_y_conf08.count())\n",
    "\n",
    "print('the amount of related queries for 0.9 confidence')\n",
    "print(x_y_conf09.count())\n"
   ]
  },
  {
   "cell_type": "code",
   "execution_count": 85,
   "metadata": {},
   "outputs": [
    {
     "name": "stdout",
     "output_type": "stream",
     "text": [
      "the amount of related queries for 0.6 confidence\n",
      "420\n",
      "the amount of related queries for 0.8 confidence\n",
      "420\n",
      "the amount of related queries for 0.9 confidence\n",
      "420\n"
     ]
    }
   ],
   "source": []
  },
  {
   "cell_type": "code",
   "execution_count": 88,
   "metadata": {},
   "outputs": [
    {
     "name": "stdout",
     "output_type": "stream",
     "text": [
      "+--------------------+--------------------+----------+\n",
      "|                   X|                   Y|CONFIDENCE|\n",
      "+--------------------+--------------------+----------+\n",
      "|      rentdirect.com|          staple.com|       1.0|\n",
      "|      rentdirect.com|www.newyorklawyer...|       1.0|\n",
      "|        207 ad2d 530|      rentdirect.com|       1.0|\n",
      "|      rentdirect.com|         ucs.ljx.com|       1.0|\n",
      "|    frankmellace.com|      rentdirect.com|       1.0|\n",
      "|   attornyleslie.com|      rentdirect.com|       1.0|\n",
      "|merit release app...|      rentdirect.com|       1.0|\n",
      "|      rentdirect.com| www.bonsai.wbff.org|       1.0|\n",
      "|          staple.com|www.newyorklawyer...|       1.0|\n",
      "|          staple.com|         ucs.ljx.com|       1.0|\n",
      "|        207 ad2d 530|          staple.com|       1.0|\n",
      "|    frankmellace.com|          staple.com|       1.0|\n",
      "|   attornyleslie.com|          staple.com|       1.0|\n",
      "|         loislaw.com|      rentdirect.com|       1.0|\n",
      "|merit release app...|          staple.com|       1.0|\n",
      "|          staple.com| www.bonsai.wbff.org|       1.0|\n",
      "|        207 ad2d 530|www.newyorklawyer...|       1.0|\n",
      "|    frankmellace.com|www.newyorklawyer...|       1.0|\n",
      "|         ucs.ljx.com|www.newyorklawyer...|       1.0|\n",
      "|   attornyleslie.com|www.newyorklawyer...|       1.0|\n",
      "+--------------------+--------------------+----------+\n",
      "only showing top 20 rows\n",
      "\n"
     ]
    }
   ],
   "source": [
    "\n",
    "\n"
   ]
  },
  {
   "cell_type": "code",
   "execution_count": 101,
   "metadata": {},
   "outputs": [],
   "source": [
    "\n",
    "\n",
    "\n"
   ]
  },
  {
   "cell_type": "code",
   "execution_count": 102,
   "metadata": {},
   "outputs": [],
   "source": []
  },
  {
   "cell_type": "code",
   "execution_count": 104,
   "metadata": {},
   "outputs": [],
   "source": []
  },
  {
   "cell_type": "code",
   "execution_count": null,
   "metadata": {},
   "outputs": [],
   "source": []
  }
 ],
 "metadata": {
  "kernelspec": {
   "display_name": "Python 3",
   "language": "python",
   "name": "python3"
  },
  "language_info": {
   "codemirror_mode": {
    "name": "ipython",
    "version": 3
   },
   "file_extension": ".py",
   "mimetype": "text/x-python",
   "name": "python",
   "nbconvert_exporter": "python",
   "pygments_lexer": "ipython3",
   "version": "3.6.7"
  }
 },
 "nbformat": 4,
 "nbformat_minor": 2
}
