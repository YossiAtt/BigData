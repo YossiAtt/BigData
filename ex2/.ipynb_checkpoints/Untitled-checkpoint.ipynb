{
 "cells": [
  {
   "cell_type": "code",
   "execution_count": null,
   "metadata": {},
   "outputs": [],
   "source": [
    "\n",
    "import pyspark.sql.functions as F\n",
    "from pyspark.sql import Row\n",
    "\n",
    "# df = spark.read.text(\"user-searches-min.txt\")\n",
    "import re\n",
    "\n",
    "def removeTimestamp(row):\n",
    "    \n",
    "    find = re.compile(r'\\d{4}-\\d{2}-\\d{2}')\n",
    "    start = re.search(find,row).start()\n",
    "    return row[0:start]\n",
    "def spliteToUserIdAndUserSearch(row):\n",
    "    row = row.split(\"\\t\", 1)\n",
    "    row[1] =  row[1].rstrip('\\t')\n",
    "    return (row[0],[row[1]])\n",
    "\n",
    "def uniqueList(line):\n",
    "    uniqueSearches = set(line[1])\n",
    "    newLine = (line[0],list(uniqueSearches))\n",
    "    return newLine\n",
    "log_txt=sc.textFile(\"user-searches-min.txt\")\n",
    "header = log_txt.first()\n",
    "\n",
    "#filter out the header, make sure the rest looks correct\n",
    "log_txt = log_txt.filter(lambda line: line != header)\n",
    "logSearch = log_txt.map(lambda line: spliteToUserIdAndUserSearch(removeTimestamp(line)))\n",
    "logSearch = logSearch.reduceByKey(lambda p,q: p+q).map(lambda line: uniqueList(line))\n",
    "\n",
    "allWords = logSearch.flatMap(lambda x: x[1]).distinct().map(lambda x: Row(x))\n",
    "allWordsDF = spark.createDataFrame(allWords, ['allWord'])\n",
    "allWordsDF.show()"
   ]
  },
  {
   "cell_type": "code",
   "execution_count": null,
   "metadata": {},
   "outputs": [],
   "source": [
    "sentenceDataFrame = spark.createDataFrame(logSearch, [\"userId\", \"search\"])\n",
    "\n",
    "sentenceDataFrame.drop_duplicates(subset=['search'])\n",
    "sentenceDataFrame.show(truncate=False)"
   ]
  },
  {
   "cell_type": "code",
   "execution_count": null,
   "metadata": {},
   "outputs": [],
   "source": [
    "from pyspark.ml.feature import CountVectorizer\n",
    "cv = CountVectorizer(inputCol=\"search\", outputCol=\"vectors\", binary =True)\n",
    "model=cv.fit(sentenceDataFrame)\n",
    "result= model.transform(sentenceDataFrame)\n",
    "result.select([\"userId\",\"search\", \"vectors\"]).show(truncate=False)"
   ]
  }
 ],
 "metadata": {
  "kernelspec": {
   "display_name": "Python 3",
   "language": "python",
   "name": "python3"
  },
  "language_info": {
   "codemirror_mode": {
    "name": "ipython",
    "version": 3
   },
   "file_extension": ".py",
   "mimetype": "text/x-python",
   "name": "python",
   "nbconvert_exporter": "python",
   "pygments_lexer": "ipython3",
   "version": "3.7.2"
  }
 },
 "nbformat": 4,
 "nbformat_minor": 2
}
